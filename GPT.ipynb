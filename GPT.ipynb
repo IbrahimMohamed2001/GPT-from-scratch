{
 "cells": [
  {
   "cell_type": "code",
   "execution_count": 8,
   "metadata": {},
   "outputs": [],
   "source": [
    "# some important imports\n",
    "import torch\n",
    "import torch.nn as nn\n",
    "import torch.nn.functional as F"
   ]
  },
  {
   "cell_type": "code",
   "execution_count": 2,
   "metadata": {},
   "outputs": [
    {
     "name": "stdout",
     "output_type": "stream",
     "text": [
      "1115393\n"
     ]
    }
   ],
   "source": [
    "with open(\"dataset.txt\", \"r\", encoding='utf-8') as file:\n",
    "    text = file.read()\n",
    "\n",
    "chars = sorted(list(set(text)))\n",
    "vocab_size = len(chars)"
   ]
  },
  {
   "cell_type": "code",
   "execution_count": null,
   "metadata": {},
   "outputs": [],
   "source": [
    "def tokenize(string):\n",
    "    return [chars.index(c) for c in string]\n",
    "def decode(l):\n",
    "    return \"\".join([chars[i] for i in l])\n",
    "\n",
    "data = torch.tensor(tokenize(text), dtype=torch.long)\n",
    "print(data.shape, data.dtype)\n",
    "print(data[:1000])"
   ]
  },
  {
   "cell_type": "code",
   "execution_count": 11,
   "metadata": {},
   "outputs": [],
   "source": [
    "train_data = data[:int(0.9*len(data))]\n",
    "val_data = data[int(0.9*len(data)):]"
   ]
  },
  {
   "cell_type": "code",
   "execution_count": 12,
   "metadata": {},
   "outputs": [
    {
     "data": {
      "text/plain": [
       "tensor([18, 47, 56, 57, 58,  1, 15, 47, 58])"
      ]
     },
     "execution_count": 12,
     "metadata": {},
     "output_type": "execute_result"
    }
   ],
   "source": [
    "def get_batch(batch_size, seq_len, split):\n",
    "    data = train_data if split == 'train' else val_data\n",
    "    ix = torch.randint(len(data) - seq_len, (batch_size,))\n",
    "    x = torch.stack([data[i : i + seq_len] for i in ix])\n",
    "    y = torch.stack([data[i + 1 : i + seq_len + 1] for i in ix])\n",
    "    return x, y"
   ]
  },
  {
   "cell_type": "code",
   "execution_count": 46,
   "metadata": {},
   "outputs": [],
   "source": [
    "vocab_size = len(chars)\n",
    "batch_size = 64\n",
    "seq_len = 256\n",
    "device = 'cuda' if torch.cuda.is_available() else 'cpu'\n",
    "n_embed = 512\n",
    "n_heads = 8\n",
    "n_layers = 6\n",
    "dropout = 0.2\n",
    "max_iters = 5000\n",
    "learning_rate = 6e-5\n",
    "eval_iters = 200\n",
    "eval_interval = 500"
   ]
  },
  {
   "cell_type": "code",
   "execution_count": 44,
   "metadata": {},
   "outputs": [],
   "source": [
    "class MultiHeadAttention(nn.Module):\n",
    "    \"\"\"Multiple Heads of Self Attention in parallel\"\"\"\n",
    "\n",
    "    def __init__(self, n_embed, seq_len, n_heads, dropout=0.1):\n",
    "        super().__init__()\n",
    "        self.n_heads = n_heads\n",
    "        self.head_size = n_embed // n_heads\n",
    "        self.scale = self.head_size ** -0.5\n",
    "\n",
    "        self.key = nn.Linear(n_embed, n_embed, bias=False)\n",
    "        self.query = nn.Linear(n_embed, n_embed, bias=False)\n",
    "        self.value = nn.Linear(n_embed, n_embed, bias=False)\n",
    "        self.proj = nn.Linear(n_embed, n_embed)\n",
    "        self.dropout = nn.Dropout(dropout)\n",
    "\n",
    "        self.register_buffer('tril', torch.tril(torch.ones(seq_len, seq_len)))\n",
    "\n",
    "    def forward(self, x):\n",
    "        B, T, C = x.shape\n",
    "\n",
    "        # Linear projections\n",
    "        k = self.key(x).view(B, T, self.n_heads, self.head_size).transpose(1, 2)\n",
    "        q = self.query(x).view(B, T, self.n_heads, self.head_size).transpose(1, 2)\n",
    "        v = self.value(x).view(B, T, self.n_heads, self.head_size).transpose(1, 2)\n",
    "\n",
    "        # Scaled dot-product attention\n",
    "        affinities = (q @ k.transpose(-2, -1)) * self.scale\n",
    "        affinities = affinities.masked_fill(self.tril[:T, :T] == 0, float('-inf'))\n",
    "        affinities = F.softmax(affinities, dim=-1)\n",
    "        affinities = self.dropout(affinities)\n",
    "\n",
    "        out = affinities @ v\n",
    "        out = out.transpose(1, 2).contiguous().view(B, T, C)\n",
    "\n",
    "        # Final linear projection\n",
    "        out = self.proj(out)\n",
    "        return self.dropout(out)\n",
    "\n",
    "class FFN(nn.Module):\n",
    "    def __init__(self, n_embed, dropout):\n",
    "        super().__init__()\n",
    "        self.net = nn.Sequential(\n",
    "            nn.Linear(n_embed, 4 * n_embed),\n",
    "            nn.ReLU(),\n",
    "            nn.Linear(4 * n_embed, n_embed),\n",
    "            nn.Dropout(dropout)\n",
    "        )\n",
    "\n",
    "    def forward(self, x):\n",
    "        return self.net(x)\n",
    "\n",
    "class DecoderBlock(nn.Module):\n",
    "    def __init__(self, n_embed, n_heads, seq_len, dropout):\n",
    "        super().__init__()\n",
    "        self.sa = MultiHeadAttention(n_embed, seq_len, n_heads)\n",
    "        self.ffn = FFN(n_embed, dropout)\n",
    "        self.ln1 = nn.LayerNorm(n_embed)\n",
    "        self.ln2 = nn.LayerNorm(n_embed)\n",
    "\n",
    "    def forward(self, x):\n",
    "        x = self.ln1(x + self.sa(x))\n",
    "        x = self.ln2(x + self.ffn(x))\n",
    "        return x\n",
    "\n",
    "class GPT(nn.Module):\n",
    "    def __init__(self, vocab_size, seq_len, n_embed, n_heads, n_layers, dropout):\n",
    "        super().__init__()\n",
    "        self.token_embedding_table = nn.Embedding(vocab_size, n_embed)\n",
    "        self.position_embedding_table = nn.Embedding(seq_len, n_embed)\n",
    "        self.blocks = nn.Sequential(*[DecoderBlock(n_embed, n_heads, seq_len, dropout) for _ in range(n_layers)])\n",
    "        self.ln_f = nn.LayerNorm(n_embed)\n",
    "        self.lm_head = nn.Linear(n_embed, vocab_size)\n",
    "    \n",
    "    def forward(self, x, targets=None):\n",
    "        B, T = x.shape\n",
    "        tok_emb = self.token_embedding_table(x)\n",
    "        pos_emb = self.position_embedding_table(torch.arange(T, device=x.device))\n",
    "        x = tok_emb + pos_emb\n",
    "        x = self.blocks(x)\n",
    "        logits = self.lm_head(x)\n",
    "\n",
    "        if targets is None:\n",
    "            loss = None\n",
    "        else:\n",
    "            logits.view(B * T, -1)\n",
    "            targets.view(-1)\n",
    "            loss = F.cross_entropy(logits, targets)\n",
    "        return logits, loss\n",
    "    \n",
    "    def generate(self, idx, max_len):\n",
    "        for _ in range(max_len):\n",
    "            logits, loss = self(idx)\n",
    "\n",
    "            logits = logits[:, -1, :]\n",
    "            probs = F.softmax(logits, dim=-1)\n",
    "\n",
    "            idx_next = torch.multinomial(probs, num_samples=1)\n",
    "            idx = torch.cat((idx, idx_next), dim=1)\n",
    "        return idx"
   ]
  },
  {
   "cell_type": "code",
   "execution_count": 67,
   "metadata": {},
   "outputs": [],
   "source": [
    "model = GPT(vocab_size, seq_len, n_embed, n_heads, n_layers, dropout).to(device)\n",
    "optimizer = torch.optim.AdamW(model.parameters(), lr=learning_rate)"
   ]
  },
  {
   "cell_type": "code",
   "execution_count": null,
   "metadata": {},
   "outputs": [],
   "source": [
    "@torch.no_grad()\n",
    "def estimate_loss():\n",
    "    out = {}\n",
    "    model.eval()\n",
    "    for split in ['train', 'val']:\n",
    "        losses = torch.zeros(eval_iters)\n",
    "        for i in range(eval_iters):\n",
    "            X, Y = get_batch(batch_size, seq_len, split)\n",
    "            logits, loss = model(X, Y)\n",
    "            losses[i] = loss.item()\n",
    "        out[split] = losses.mean()\n",
    "    model.train()\n",
    "    return out\n",
    "\n",
    "for iteration in range(max_iters):\n",
    "    \n",
    "    if iteration % eval_interval == 0:\n",
    "        losses = estimate_loss()\n",
    "        print(f'step {iteration} ,, train loss: {losses['train']:.4f} ,, val loss: {losses['val']:.4f}')\n",
    "    \n",
    "    xb, yb = get_batch(batch_size, seq_len, 'train')\n",
    "    xb, yb = xb.to(device), yb.to(device)\n",
    "    logits, loss = model(xb, yb)\n",
    "    optimizer.zero_grad(set_to_None=True)\n",
    "    loss.backward()\n",
    "    optimizer.step()"
   ]
  }
 ],
 "metadata": {
  "kernelspec": {
   "display_name": "base",
   "language": "python",
   "name": "python3"
  },
  "language_info": {
   "codemirror_mode": {
    "name": "ipython",
    "version": 3
   },
   "file_extension": ".py",
   "mimetype": "text/x-python",
   "name": "python",
   "nbconvert_exporter": "python",
   "pygments_lexer": "ipython3",
   "version": "3.9.13"
  }
 },
 "nbformat": 4,
 "nbformat_minor": 2
}
